{
 "cells": [
  {
   "cell_type": "markdown",
   "metadata": {},
   "source": [
    "# Project: Water Potability Prediction\n",
    "\n",
    "## Table of Contents\n",
    "<ul>\n",
    "<li>Introduction</li>\n",
    "<li>Data Wrangling</li>\n",
    "<li>Exploratory Data Analysis</li>\n",
    "<li>Conclusions</li>\n",
    "</ul>"
   ]
  },
  {
   "cell_type": "markdown",
   "metadata": {},
   "source": [
    "## Introduction\n",
    "\n",
    "Water is the most significant resource of life, crucial for supporting the life of most existing creatures and human beings. Living organisms need water with enough quality to continue their lives. There are certain limits of pollutions that water species can tolerate. Exceeding these limits affects the existence of these creatures and threatens their lives.\n",
    "\n",
    "As per the United Nations (UN) report, about 1.5 million people die each year because of contaminated water-driven diseases. In developing countries, it is announced that 80% of health problems are caused by contaminated water. Five million deaths and 2.5 billion illnesses are reported annually. Such a mortality rate is higher than deaths resulting from accidents, crimes, and terrorist attacks.\n",
    "\n",
    "Access to safe drinking-water is essential to health, a basic human right and a component of effective policy for health protection. This is important as a health and development issue at a national, regional and local level. In some regions, it has been shown that investments in water supply and sanitation can yield a net economic benefit, since the reductions in adverse health effects and health care costs outweigh the costs of undertaking the interventions.Therefore, it is very important to suggest new approaches to analyze and, if possible, to predict the water quality.\n",
    "\n",
    "The goal of this project is to train a machine learning algorithm to predict water portability using a number of features.\n",
    "\n",
    "### Dataset Description\n",
    "\n",
    "1. ph: pH of 1. water (0 to 14).\n",
    "\n",
    "2. Hardness: Capacity of water to precipitate soap in mg/L.\n",
    "\n",
    "3. Solids: Total dissolved solids in ppm.\n",
    "\n",
    "4. Chloramines: Amount of Chloramines in ppm.\n",
    "\n",
    "5. Sulfate: Amount of Sulfates dissolved in mg/L.\n",
    "\n",
    "6. Conductivity: Electrical conductivity of water in μS/cm.\n",
    "\n",
    "7. Organic_carbon: Amount of organic carbon in ppm.\n",
    "\n",
    "8. Trihalomethanes: Amount of Trihalomethanes in μg/L.\n",
    "\n",
    "9. Turbidity: Measure of light emitting property of water in NTU.\n",
    "\n",
    "10. Potability: Indicates if water is safe for human consumption. Potable - 1 and Not potable - 0"
   ]
  },
  {
   "cell_type": "code",
   "execution_count": 3,
   "metadata": {},
   "outputs": [],
   "source": [
    "# imporing the necessary libraries\n",
    "import pandas as pd\n",
    "import numpy as np\n",
    "from time import time\n",
    "import matplotlib.pyplot as plt\n",
    "import seaborn as sns"
   ]
  },
  {
   "cell_type": "markdown",
   "metadata": {},
   "source": [
    "## Data Wrangling"
   ]
  },
  {
   "cell_type": "code",
   "execution_count": 5,
   "metadata": {},
   "outputs": [
    {
     "data": {
      "text/html": [
       "<div><div id=bcac6dc5-6790-48c5-b39a-e383b315588d style=\"display:none; background-color:#9D6CFF; color:white; width:200px; height:30px; padding-left:5px; border-radius:4px; flex-direction:row; justify-content:space-around; align-items:center;\" onmouseover=\"this.style.backgroundColor='#BA9BF8'\" onmouseout=\"this.style.backgroundColor='#9D6CFF'\" onclick=\"window.commands?.execute('create-mitosheet-from-dataframe-output');\">See Full Dataframe in Mito</div> <script> if (window.commands?.hasCommand('create-mitosheet-from-dataframe-output')) document.getElementById('bcac6dc5-6790-48c5-b39a-e383b315588d').style.display = 'flex' </script> <table border=\"1\" class=\"dataframe\">\n",
       "  <thead>\n",
       "    <tr style=\"text-align: right;\">\n",
       "      <th></th>\n",
       "      <th>ph</th>\n",
       "      <th>Hardness</th>\n",
       "      <th>Solids</th>\n",
       "      <th>Chloramines</th>\n",
       "      <th>Sulfate</th>\n",
       "      <th>Conductivity</th>\n",
       "      <th>Organic_carbon</th>\n",
       "      <th>Trihalomethanes</th>\n",
       "      <th>Turbidity</th>\n",
       "      <th>Potability</th>\n",
       "    </tr>\n",
       "  </thead>\n",
       "  <tbody>\n",
       "    <tr>\n",
       "      <th>0</th>\n",
       "      <td>7.080795</td>\n",
       "      <td>219.674262</td>\n",
       "      <td>22210.613083</td>\n",
       "      <td>5.875041</td>\n",
       "      <td>333.775777</td>\n",
       "      <td>398.517703</td>\n",
       "      <td>11.502316</td>\n",
       "      <td>112.412210</td>\n",
       "      <td>2.994259</td>\n",
       "      <td>0</td>\n",
       "    </tr>\n",
       "    <tr>\n",
       "      <th>1</th>\n",
       "      <td>6.783888</td>\n",
       "      <td>193.653581</td>\n",
       "      <td>13677.106441</td>\n",
       "      <td>5.171454</td>\n",
       "      <td>323.728663</td>\n",
       "      <td>477.854687</td>\n",
       "      <td>15.056064</td>\n",
       "      <td>66.396293</td>\n",
       "      <td>3.250022</td>\n",
       "      <td>0</td>\n",
       "    </tr>\n",
       "    <tr>\n",
       "      <th>2</th>\n",
       "      <td>6.010618</td>\n",
       "      <td>184.558582</td>\n",
       "      <td>15940.573271</td>\n",
       "      <td>8.165222</td>\n",
       "      <td>421.486089</td>\n",
       "      <td>314.529813</td>\n",
       "      <td>20.314617</td>\n",
       "      <td>83.707938</td>\n",
       "      <td>4.867287</td>\n",
       "      <td>1</td>\n",
       "    </tr>\n",
       "    <tr>\n",
       "      <th>3</th>\n",
       "      <td>8.097454</td>\n",
       "      <td>218.992436</td>\n",
       "      <td>18112.284447</td>\n",
       "      <td>6.196947</td>\n",
       "      <td>333.775777</td>\n",
       "      <td>376.569803</td>\n",
       "      <td>17.746264</td>\n",
       "      <td>59.909941</td>\n",
       "      <td>4.279082</td>\n",
       "      <td>1</td>\n",
       "    </tr>\n",
       "    <tr>\n",
       "      <th>4</th>\n",
       "      <td>8.072612</td>\n",
       "      <td>210.269780</td>\n",
       "      <td>16843.363927</td>\n",
       "      <td>8.793459</td>\n",
       "      <td>359.516169</td>\n",
       "      <td>559.167574</td>\n",
       "      <td>17.263576</td>\n",
       "      <td>68.738989</td>\n",
       "      <td>5.082206</td>\n",
       "      <td>0</td>\n",
       "    </tr>\n",
       "  </tbody>\n",
       "</table></div>"
      ],
      "text/plain": [
       "         ph    Hardness        Solids  Chloramines     Sulfate  Conductivity  \\\n",
       "0  7.080795  219.674262  22210.613083     5.875041  333.775777    398.517703   \n",
       "1  6.783888  193.653581  13677.106441     5.171454  323.728663    477.854687   \n",
       "2  6.010618  184.558582  15940.573271     8.165222  421.486089    314.529813   \n",
       "3  8.097454  218.992436  18112.284447     6.196947  333.775777    376.569803   \n",
       "4  8.072612  210.269780  16843.363927     8.793459  359.516169    559.167574   \n",
       "\n",
       "   Organic_carbon  Trihalomethanes  Turbidity  Potability  \n",
       "0       11.502316       112.412210   2.994259           0  \n",
       "1       15.056064        66.396293   3.250022           0  \n",
       "2       20.314617        83.707938   4.867287           1  \n",
       "3       17.746264        59.909941   4.279082           1  \n",
       "4       17.263576        68.738989   5.082206           0  "
      ]
     },
     "execution_count": 5,
     "metadata": {},
     "output_type": "execute_result"
    }
   ],
   "source": [
    "# reading our test data into a pandas dataframe\n",
    "df_water = pd.read_csv('water_portability_train_dataset.csv')\n",
    "df_water.head()"
   ]
  },
  {
   "cell_type": "code",
   "execution_count": 54,
   "metadata": {},
   "outputs": [
    {
     "data": {
      "text/plain": [
       "Index(['ph', 'hardness', 'solids', 'chloramines', 'sulfate', 'conductivity',\n",
       "       'organic_carbon', 'trihalomethanes', 'turbidity', 'potability'],\n",
       "      dtype='object')"
      ]
     },
     "execution_count": 54,
     "metadata": {},
     "output_type": "execute_result"
    }
   ],
   "source": [
    "# makeing the column headers lowercase\n",
    "df_water.columns = [x.lower() for x in df_water.columns]\n",
    "df_water.columns"
   ]
  },
  {
   "cell_type": "code",
   "execution_count": 55,
   "metadata": {},
   "outputs": [
    {
     "name": "stdout",
     "output_type": "stream",
     "text": [
      "<class 'pandas.core.frame.DataFrame'>\n",
      "RangeIndex: 2293 entries, 0 to 2292\n",
      "Data columns (total 10 columns):\n",
      " #   Column           Non-Null Count  Dtype  \n",
      "---  ------           --------------  -----  \n",
      " 0   ph               2293 non-null   float64\n",
      " 1   hardness         2293 non-null   float64\n",
      " 2   solids           2293 non-null   float64\n",
      " 3   chloramines      2293 non-null   float64\n",
      " 4   sulfate          2293 non-null   float64\n",
      " 5   conductivity     2293 non-null   float64\n",
      " 6   organic_carbon   2293 non-null   float64\n",
      " 7   trihalomethanes  2293 non-null   float64\n",
      " 8   turbidity        2293 non-null   float64\n",
      " 9   potability       2293 non-null   int64  \n",
      "dtypes: float64(9), int64(1)\n",
      "memory usage: 179.3 KB\n"
     ]
    }
   ],
   "source": [
    "# inspecting our dataset\n",
    "df_water.info()"
   ]
  },
  {
   "cell_type": "markdown",
   "metadata": {},
   "source": [
    "There are no missing values in our data and all the data types are acculate."
   ]
  },
  {
   "cell_type": "code",
   "execution_count": 56,
   "metadata": {},
   "outputs": [
    {
     "data": {
      "text/html": [
       "<div><div id=06b3ab2f-619b-4964-b97f-a5e60e0a9214 style=\"display:none; background-color:#9D6CFF; color:white; width:200px; height:30px; padding-left:5px; border-radius:4px; flex-direction:row; justify-content:space-around; align-items:center;\" onmouseover=\"this.style.backgroundColor='#BA9BF8'\" onmouseout=\"this.style.backgroundColor='#9D6CFF'\" onclick=\"window.commands?.execute('create-mitosheet-from-dataframe-output');\">See Full Dataframe in Mito</div> <script> if (window.commands?.hasCommand('create-mitosheet-from-dataframe-output')) document.getElementById('06b3ab2f-619b-4964-b97f-a5e60e0a9214').style.display = 'flex' </script> <table border=\"1\" class=\"dataframe\">\n",
       "  <thead>\n",
       "    <tr style=\"text-align: right;\">\n",
       "      <th></th>\n",
       "      <th>ph</th>\n",
       "      <th>hardness</th>\n",
       "      <th>solids</th>\n",
       "      <th>chloramines</th>\n",
       "      <th>sulfate</th>\n",
       "      <th>conductivity</th>\n",
       "      <th>organic_carbon</th>\n",
       "      <th>trihalomethanes</th>\n",
       "      <th>turbidity</th>\n",
       "      <th>potability</th>\n",
       "    </tr>\n",
       "  </thead>\n",
       "  <tbody>\n",
       "    <tr>\n",
       "      <th>count</th>\n",
       "      <td>2293.000000</td>\n",
       "      <td>2293.000000</td>\n",
       "      <td>2293.000000</td>\n",
       "      <td>2293.000000</td>\n",
       "      <td>2293.000000</td>\n",
       "      <td>2293.000000</td>\n",
       "      <td>2293.000000</td>\n",
       "      <td>2293.000000</td>\n",
       "      <td>2293.000000</td>\n",
       "      <td>2293.000000</td>\n",
       "    </tr>\n",
       "    <tr>\n",
       "      <th>mean</th>\n",
       "      <td>7.082265</td>\n",
       "      <td>196.390335</td>\n",
       "      <td>22074.335334</td>\n",
       "      <td>7.132987</td>\n",
       "      <td>333.393347</td>\n",
       "      <td>425.455702</td>\n",
       "      <td>14.229174</td>\n",
       "      <td>66.499518</td>\n",
       "      <td>3.967153</td>\n",
       "      <td>0.390318</td>\n",
       "    </tr>\n",
       "    <tr>\n",
       "      <th>std</th>\n",
       "      <td>1.486029</td>\n",
       "      <td>32.460633</td>\n",
       "      <td>8668.693908</td>\n",
       "      <td>1.573879</td>\n",
       "      <td>36.116271</td>\n",
       "      <td>80.266652</td>\n",
       "      <td>3.341429</td>\n",
       "      <td>16.067742</td>\n",
       "      <td>0.788480</td>\n",
       "      <td>0.487928</td>\n",
       "    </tr>\n",
       "    <tr>\n",
       "      <th>min</th>\n",
       "      <td>0.000000</td>\n",
       "      <td>47.432000</td>\n",
       "      <td>320.942611</td>\n",
       "      <td>0.530351</td>\n",
       "      <td>180.206746</td>\n",
       "      <td>201.619737</td>\n",
       "      <td>2.200000</td>\n",
       "      <td>0.738000</td>\n",
       "      <td>1.450000</td>\n",
       "      <td>0.000000</td>\n",
       "    </tr>\n",
       "    <tr>\n",
       "      <th>25%</th>\n",
       "      <td>6.262799</td>\n",
       "      <td>176.753500</td>\n",
       "      <td>15825.182571</td>\n",
       "      <td>6.140033</td>\n",
       "      <td>316.552791</td>\n",
       "      <td>363.974060</td>\n",
       "      <td>12.015868</td>\n",
       "      <td>56.329076</td>\n",
       "      <td>3.440753</td>\n",
       "      <td>0.000000</td>\n",
       "    </tr>\n",
       "    <tr>\n",
       "      <th>50%</th>\n",
       "      <td>7.080795</td>\n",
       "      <td>196.833001</td>\n",
       "      <td>21153.322827</td>\n",
       "      <td>7.135063</td>\n",
       "      <td>333.775777</td>\n",
       "      <td>420.828362</td>\n",
       "      <td>14.151538</td>\n",
       "      <td>66.396293</td>\n",
       "      <td>3.947138</td>\n",
       "      <td>0.000000</td>\n",
       "    </tr>\n",
       "    <tr>\n",
       "      <th>75%</th>\n",
       "      <td>7.873272</td>\n",
       "      <td>216.441172</td>\n",
       "      <td>27345.174288</td>\n",
       "      <td>8.104498</td>\n",
       "      <td>349.985243</td>\n",
       "      <td>480.715208</td>\n",
       "      <td>16.450990</td>\n",
       "      <td>77.182622</td>\n",
       "      <td>4.503661</td>\n",
       "      <td>1.000000</td>\n",
       "    </tr>\n",
       "    <tr>\n",
       "      <th>max</th>\n",
       "      <td>14.000000</td>\n",
       "      <td>317.338124</td>\n",
       "      <td>56351.396304</td>\n",
       "      <td>13.043806</td>\n",
       "      <td>481.030642</td>\n",
       "      <td>753.342620</td>\n",
       "      <td>28.300000</td>\n",
       "      <td>124.000000</td>\n",
       "      <td>6.739000</td>\n",
       "      <td>1.000000</td>\n",
       "    </tr>\n",
       "  </tbody>\n",
       "</table></div>"
      ],
      "text/plain": [
       "                ph     hardness        solids  chloramines      sulfate  \\\n",
       "count  2293.000000  2293.000000   2293.000000  2293.000000  2293.000000   \n",
       "mean      7.082265   196.390335  22074.335334     7.132987   333.393347   \n",
       "std       1.486029    32.460633   8668.693908     1.573879    36.116271   \n",
       "min       0.000000    47.432000    320.942611     0.530351   180.206746   \n",
       "25%       6.262799   176.753500  15825.182571     6.140033   316.552791   \n",
       "50%       7.080795   196.833001  21153.322827     7.135063   333.775777   \n",
       "75%       7.873272   216.441172  27345.174288     8.104498   349.985243   \n",
       "max      14.000000   317.338124  56351.396304    13.043806   481.030642   \n",
       "\n",
       "       conductivity  organic_carbon  trihalomethanes    turbidity   potability  \n",
       "count   2293.000000     2293.000000      2293.000000  2293.000000  2293.000000  \n",
       "mean     425.455702       14.229174        66.499518     3.967153     0.390318  \n",
       "std       80.266652        3.341429        16.067742     0.788480     0.487928  \n",
       "min      201.619737        2.200000         0.738000     1.450000     0.000000  \n",
       "25%      363.974060       12.015868        56.329076     3.440753     0.000000  \n",
       "50%      420.828362       14.151538        66.396293     3.947138     0.000000  \n",
       "75%      480.715208       16.450990        77.182622     4.503661     1.000000  \n",
       "max      753.342620       28.300000       124.000000     6.739000     1.000000  "
      ]
     },
     "execution_count": 56,
     "metadata": {},
     "output_type": "execute_result"
    }
   ],
   "source": [
    "# chechinking the distribution of our features\n",
    "df_water.describe()"
   ]
  },
  {
   "cell_type": "markdown",
   "metadata": {},
   "source": [
    "## Exploratory Data Analysis\n",
    "\n",
    "We will be performing univariate and bivariate EDA on our dataset to see how our features are distributed and see how they they affect our taget variable (potability)"
   ]
  },
  {
   "cell_type": "code",
   "execution_count": 66,
   "metadata": {},
   "outputs": [],
   "source": [
    "# define a function to make histograms and violin plots\n",
    "def HistViolinPlot(col,title,data=df_water):\n",
    "    fig = plt.figure(figsize=(15,4))\n",
    "    plt.subplot(1,2,1)\n",
    "    plt.hist(x=col,data=data)\n",
    "    plt.title(title)\n",
    "    plt.xlabel(col)\n",
    "    plt.ylabel(\"Count\")\n",
    "    \n",
    "    plt.subplot(1,2,2)\n",
    "    sns.violinplot(y=col,data=data,inner=\"quartile\")\n",
    "    plt.title(title)\n",
    "    return plt.show()"
   ]
  },
  {
   "cell_type": "code",
   "execution_count": 68,
   "metadata": {
    "scrolled": true
   },
   "outputs": [
    {
     "data": {
      "image/png": "[encoded data removed]",
      "text/plain": [
       "<Figure size 1080x288 with 2 Axes>"
      ]
     },
     "metadata": {
      "needs_background": "light"
     },
     "output_type": "display_data"
    }
   ],
   "source": [
    "# checking the distribution of our ph\n",
    "HistViolinPlot('ph','pH Distribution',data=df_water)"
   ]
  },
  {
   "cell_type": "markdown",
   "metadata": {},
   "source": [
    "We can see of pH values have a unimodal distribution with most of our values in the 7 to 8 range. With a few outliers."
   ]
  },
  {
   "cell_type": "code",
   "execution_count": 63,
   "metadata": {},
   "outputs": [
    {
     "data": {
      "image/png": "[encoded data removed]",
      "text/plain": [
       "<Figure size 1080x288 with 2 Axes>"
      ]
     },
     "metadata": {
      "needs_background": "light"
     },
     "output_type": "display_data"
    }
   ],
   "source": [
    "# checking the distribution of hardness\n",
    "HistViolinPlot('hardness','Distrubution of Hardness',data=df_water)"
   ]
  },
  {
   "cell_type": "code",
   "execution_count": null,
   "metadata": {},
   "outputs": [],
   "source": [
    "# checking distributionof "
   ]
  },
  {
   "cell_type": "code",
   "execution_count": null,
   "metadata": {},
   "outputs": [],
   "source": []
  },
  {
   "cell_type": "code",
   "execution_count": null,
   "metadata": {},
   "outputs": [],
   "source": []
  },
  {
   "cell_type": "code",
   "execution_count": null,
   "metadata": {
    "collapsed": true
   },
   "outputs": [],
   "source": []
  }
 ],
 "metadata": {
  "kernelspec": {
   "display_name": "Python 3",
   "language": "python",
   "name": "python3"
  },
  "language_info": {
   "codemirror_mode": {
    "name": "ipython",
    "version": 3
   },
   "file_extension": ".py",
   "mimetype": "text/x-python",
   "name": "python",
   "nbconvert_exporter": "python",
   "pygments_lexer": "ipython3",
   "version": "3.8.8"
  }
 },
 "nbformat": 4,
 "nbformat_minor": 2
}
